{
 "cells": [
  {
   "cell_type": "markdown",
   "metadata": {},
   "source": [
    "# AI-Project 4B-HMM"
   ]
  },
  {
   "cell_type": "code",
   "execution_count": 8,
   "metadata": {
    "collapsed": true
   },
   "outputs": [],
   "source": [
    "import numpy as np"
   ]
  },
  {
   "cell_type": "code",
   "execution_count": 9,
   "metadata": {
    "collapsed": true
   },
   "outputs": [],
   "source": [
    "dice_sequence_1 = [1, 2, 3, 2, 1, 3, 2, 1, 3, 2, 3]\n",
    "dice_sequence_2 = [1, 2, 1, 1, 1, 2, 3, 3, 1, 2, 3, 3, 1, 3, 3]\n",
    "dice_sequence_3 = [3, 2, 3, 1, 1, 3]\n",
    "dice_sequence_4 = [3, 2, 3, 1, 1, 2, 3]\n",
    "dice_sequence_5 = [1, 2, 1, 1, 2, 1]\n",
    "dice_sequence_6 = [3, 3, 3, 1, 2, 3, 2, 2, 2, 2, 1]"
   ]
  },
  {
   "cell_type": "code",
   "execution_count": 10,
   "metadata": {
    "collapsed": true
   },
   "outputs": [],
   "source": [
    "states = [\"D1\", \"D2\", \"D3\"]\n",
    "\n",
    "observations = [1,2,3]\n",
    "\n",
    "start_prob = {\"D1\":0.333,\"D2\":0.333,\"D3\":0.333}\n",
    "\n",
    "transition_prob = {\"D1\":{\"D1\":0.5,\"D2\":0.125,\"D3\":0.125,\"END\":0.25},\n",
    "                   \"D2\":{\"D1\":0.125,\"D2\":0.5,\"D3\":0.125,\"END\":0.25},\n",
    "                   \"D3\":{\"D1\":0.125,\"D2\":0.125,\"D3\":0.5,\"END\":0.25}}\n",
    "\n",
    "emission_prob = {\"D1\":{1:0.6,2:0.2,3:0.2},\n",
    "                 \"D2\":{1:0.2,2:0.6,3:0.2},\n",
    "                 \"D3\":{1:0.2,2:0.2,3:0.6}}"
   ]
  },
  {
   "cell_type": "code",
   "execution_count": 11,
   "metadata": {
    "collapsed": true
   },
   "outputs": [],
   "source": [
    "def viterbi(dice_sequence):\n",
    "    result = [{}]\n",
    "    \n",
    "    for s in states:\n",
    "        result[0][s] = (start_prob[s]*emission_prob[s][dice_sequence[0]], None)\n",
    "    \n",
    "    for t in range(1,len(dice_sequence)):\n",
    "        result.append({})\n",
    "        \n",
    "        for s in states:\n",
    "            result[t][s] = max((result[t-1][s0][0]*transition_prob[s0][s]*emission_prob[s][dice_sequence[t]],s0) for s0 in states)\n",
    "    \n",
    "    results = []\n",
    "    \n",
    "    ##\n",
    "    d1 = (result[-1][\"D1\"][0],\"D1\")\n",
    "    d2 = (result[-1][\"D2\"][0],\"D2\")\n",
    "    d3 = (result[-1][\"D3\"][0],\"D3\")\n",
    "    a = []\n",
    "    a.append(d1)\n",
    "    a.append(d2)\n",
    "    a.append(d3)\n",
    "    \n",
    "    id = 0\n",
    "    num = 0\n",
    "    \n",
    "    for i in range(3):\n",
    "        if a[i][0] > num:\n",
    "            id = a[i][1]\n",
    "            num = a[i][0]\n",
    "    \n",
    "    ##\n",
    "    last = id\n",
    "    print(last)\n",
    "    results.append(last)\n",
    "    t = len(result)-1\n",
    "    \n",
    "    while t>0:\n",
    "        add = result[t][last][1]\n",
    "        results.append(add)\n",
    "        last = add\n",
    "        t = t-1\n",
    "    \n",
    "    results.reverse()\n",
    "    \n",
    "    return result, results"
   ]
  },
  {
   "cell_type": "code",
   "execution_count": 17,
   "metadata": {},
   "outputs": [
    {
     "name": "stdout",
     "output_type": "stream",
     "text": [
      "D1\n"
     ]
    },
    {
     "data": {
      "text/plain": [
       "([{'D1': (0.1998, None), 'D2': (0.0666, None), 'D3': (0.0666, None)},\n",
       "  {'D1': (0.01998, 'D1'),\n",
       "   'D2': (0.01998, 'D2'),\n",
       "   'D3': (0.006660000000000001, 'D3')},\n",
       "  {'D1': (0.005994, 'D1'),\n",
       "   'D2': (0.001998, 'D2'),\n",
       "   'D3': (0.0006660000000000001, 'D3')},\n",
       "  {'D1': (0.0017982, 'D1'),\n",
       "   'D2': (0.00019980000000000003, 'D2'),\n",
       "   'D3': (0.00014985, 'D1')},\n",
       "  {'D1': (0.00017982000000000002, 'D1'),\n",
       "   'D2': (0.000134865, 'D1'),\n",
       "   'D3': (4.4955000000000006e-05, 'D1')},\n",
       "  {'D1': (5.394600000000001e-05, 'D1'),\n",
       "   'D2': (1.34865e-05, 'D2'),\n",
       "   'D3': (4.4955e-06, 'D3')}],\n",
       " ['D1', 'D1', 'D1', 'D1', 'D1', 'D1'])"
      ]
     },
     "execution_count": 17,
     "metadata": {},
     "output_type": "execute_result"
    }
   ],
   "source": [
    "viterbi(dice_sequence_5)"
   ]
  },
  {
   "cell_type": "code",
   "execution_count": null,
   "metadata": {
    "collapsed": true
   },
   "outputs": [],
   "source": []
  },
  {
   "cell_type": "markdown",
   "metadata": {
    "collapsed": true
   },
   "source": [
    "S1:\n",
    "\n",
    "['D3', 'D3', 'D3', 'D3', 'D3', 'D3', 'D3', 'D3', 'D3', 'D3', 'D3']\n",
    "\n",
    "[1, 2, 3, 2, 1, 3, 2, 1, 3, 2, 3]\n",
    "\n",
    "S2:\n",
    "\n",
    "['D1','D1','D1','D1','D1','D3','D3','D3','D3','D3','D3','D3','D3','D3','D3']\n",
    "\n",
    "[1, 2, 1, 1, 1, 2, 3, 3, 1, 2, 3, 3, 1, 3, 3]\n",
    "\n",
    "S3:\n",
    "\n",
    "['D3', 'D3', 'D3', 'D3', 'D3', 'D3']\n",
    "\n",
    "[3, 2, 3, 1, 1, 3]\n",
    "\n",
    "S4:\n",
    "\n",
    "['D3', 'D3', 'D3', 'D3', 'D3', 'D3', 'D3']\n",
    "\n",
    "[3, 2, 3, 1, 1, 2, 3]\n",
    "\n",
    "S5:\n",
    "\n",
    "['D1', 'D1', 'D1', 'D1', 'D1', 'D1']\n",
    "\n",
    "[1, 2, 1, 1, 2, 1]\n",
    "\n",
    "S6:\n",
    "\n",
    "['D3', 'D3', 'D3', 'D3', 'D3', 'D3', 'D2', 'D2', 'D2', 'D2', 'D2']\n",
    "\n",
    "[3, 3, 3, 1, 2, 3, 2, 2, 2, 2, 1]\n"
   ]
  },
  {
   "cell_type": "code",
   "execution_count": null,
   "metadata": {
    "collapsed": true
   },
   "outputs": [],
   "source": []
  },
  {
   "cell_type": "markdown",
   "metadata": {},
   "source": [
    "https://www.zhihu.com/question/20136144"
   ]
  },
  {
   "cell_type": "code",
   "execution_count": null,
   "metadata": {
    "collapsed": true
   },
   "outputs": [],
   "source": []
  }
 ],
 "metadata": {
  "kernelspec": {
   "display_name": "Python 3",
   "language": "python",
   "name": "python3"
  },
  "language_info": {
   "codemirror_mode": {
    "name": "ipython",
    "version": 3
   },
   "file_extension": ".py",
   "mimetype": "text/x-python",
   "name": "python",
   "nbconvert_exporter": "python",
   "pygments_lexer": "ipython3",
   "version": "3.6.2"
  }
 },
 "nbformat": 4,
 "nbformat_minor": 2
}
