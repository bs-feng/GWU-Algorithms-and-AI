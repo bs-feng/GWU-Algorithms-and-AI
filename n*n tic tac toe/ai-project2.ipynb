{
 "cells": [
  {
   "cell_type": "markdown",
   "metadata": {},
   "source": [
    "AI Project Two - Tic Tac Toe Game - Mar 9th, 2018"
   ]
  },
  {
   "cell_type": "markdown",
   "metadata": {},
   "source": [
    "Team Member: Baosheng Feng, Jiahang Chen\n",
    "\n",
    "Team Name & Team ID: Team No1, ID 1025"
   ]
  },
  {
   "cell_type": "markdown",
   "metadata": {},
   "source": [
    "n <20 & m < 8\n",
    "\n",
    "n = 18, m = 8\n",
    "\n",
    "n = 15, m = 7\n",
    "\n",
    "n = 12, m = 6\n",
    "\n",
    "n = 6, m = 4"
   ]
  },
  {
   "cell_type": "code",
   "execution_count": 1,
   "metadata": {
    "collapsed": true
   },
   "outputs": [],
   "source": [
    "from heapq import heappush\n",
    "import copy"
   ]
  },
  {
   "cell_type": "markdown",
   "metadata": {},
   "source": [
    "################### class & function"
   ]
  },
  {
   "cell_type": "markdown",
   "metadata": {},
   "source": [
    "Define a node class, which is one spot in the tic tac toe game."
   ]
  },
  {
   "cell_type": "code",
   "execution_count": 2,
   "metadata": {
    "collapsed": true
   },
   "outputs": [],
   "source": [
    "class Node:\n",
    "    def __init__(self, n, m, position, player):\n",
    "        \n",
    "        self.position = position\n",
    "        self.player = player\n",
    "        \n",
    "        #row\n",
    "        if position%n == 0:\n",
    "            self.row = int(position/n)\n",
    "        else:\n",
    "            self.row = int(position/n) + 1\n",
    "        \n",
    "        #col\n",
    "        self.col = position - (self.row-1)*n\n",
    "        \n",
    "        #right\n",
    "        if position%n != 0:\n",
    "            self.right = position + 1\n",
    "        else:\n",
    "            self.right = None\n",
    "        \n",
    "        #down\n",
    "        if position <= (n-1)*n:\n",
    "            self.down = position + n\n",
    "        else:\n",
    "            self.down = None\n",
    "        \n",
    "        #lower right\n",
    "        if self.down and position%n != 0:\n",
    "            self.rightdown = self.down + 1\n",
    "        else:\n",
    "            self.rightdown = None\n",
    "        \n",
    "        #lower left\n",
    "        if self.down and (position-1)%n != 0:\n",
    "            self.leftdown = self.down -1\n",
    "        else:\n",
    "            self.leftdown = None"
   ]
  },
  {
   "cell_type": "markdown",
   "metadata": {},
   "source": [
    "Define a game class, which will store all the data of a tic tac toe game"
   ]
  },
  {
   "cell_type": "code",
   "execution_count": 3,
   "metadata": {
    "collapsed": true
   },
   "outputs": [],
   "source": [
    "class Game:\n",
    "    \n",
    "    def __init__(self, n, m):\n",
    "        \n",
    "        #0. n, m, \"X\", \"O\"\n",
    "        self.n = n\n",
    "        self.m = m\n",
    "        self.human_player = None\n",
    "        self.ai_player = None\n",
    "        \n",
    "        #1. step count\n",
    "        self.step = 0\n",
    "        \n",
    "        #2. list of node, which is used in the winning function\n",
    "        self.game_detail = initialize_game(n,m)\n",
    "        \n",
    "        #3. list of position, which is used to record the game\n",
    "        self.game_brief = []\n",
    "        for i in range(n*n):\n",
    "            self.game_brief.append(i+1)\n",
    "        \n",
    "        #4. list of \"X\" position, used in the winning function\n",
    "        self.x_position = []\n",
    "        \n",
    "        \n",
    "        #5. list of \"O\" position, used in the winning function\n",
    "        self.o_position = []\n",
    "        \n",
    "        \n",
    "        \n",
    "    #update the game with each move\n",
    "    def move(self, player, position):\n",
    "        \n",
    "        self.step += 1\n",
    "        self.game_detail[position-1].player = player\n",
    "        self.game_brief[position-1] = player\n",
    "        \n",
    "        if player == \"X\":\n",
    "            self.x_position.append(position)\n",
    "        else:\n",
    "            self.o_position.append(position)\n",
    "        \n",
    "    \n",
    "    #undo the last action, used in the minimax function\n",
    "    def undo(self, player, position):\n",
    "        \n",
    "        self.step -= 1\n",
    "        self.game_detail[position-1].player = None\n",
    "        self.game_brief[position-1] = position\n",
    "        \n",
    "        if player == \"X\":\n",
    "            self.x_position.remove(position)\n",
    "        else:\n",
    "            self.o_position.remove(position)"
   ]
  },
  {
   "cell_type": "markdown",
   "metadata": {},
   "source": [
    "Initialize the game_detail list which store the game detail information"
   ]
  },
  {
   "cell_type": "code",
   "execution_count": 4,
   "metadata": {
    "collapsed": true
   },
   "outputs": [],
   "source": [
    "def initialize_game(n,m):\n",
    "    \n",
    "    game = []\n",
    "    \n",
    "    for i in range(n*n):\n",
    "        game.append(Node(n,m,i+1,None))\n",
    "    \n",
    "    return game"
   ]
  },
  {
   "cell_type": "markdown",
   "metadata": {},
   "source": [
    "To reduce the search space, we will focus our search space surround the existing “X” and \"O\""
   ]
  },
  {
   "cell_type": "code",
   "execution_count": 5,
   "metadata": {
    "collapsed": true
   },
   "outputs": [],
   "source": [
    "def valid_search_space(game):\n",
    "    \n",
    "    search_space = []\n",
    "    \n",
    "    if game.step == 0:\n",
    "        return []\n",
    "    \n",
    "    if game.step % 2 == 1:\n",
    "        last_position = game.x_position[len(game.x_position)-1]\n",
    "    else:\n",
    "        last_position = game.o_position[len(game.o_position)-1]\n",
    "        \n",
    "    #here, we want to limit the search space around the last spot position\n",
    "    positions = []\n",
    "    \n",
    "    row_last_position = game.game_detail[last_position - 1].row\n",
    "    col_last_position = game.game_detail[last_position - 1].col\n",
    "    \n",
    "    extend = 2\n",
    "    \n",
    "    start_row = max(row_last_position - extend , 1)\n",
    "    end_row = min(row_last_position + extend , n)\n",
    "    start_col = max(col_last_position - extend, 1)\n",
    "    end_col = min(col_last_position + extend , n)\n",
    "    \n",
    "    for row in range(start_row, end_row + 1):\n",
    "        for col in range(start_col, end_col + 1):\n",
    "            position = (row - 1)*n + col\n",
    "            positions.append(position)\n",
    "    \n",
    "    for item in positions:\n",
    "        if game.game_brief[item-1] !=\"X\" and game.game_brief[item-1] !=\"O\":\n",
    "            search_space.append(item)\n",
    "    \n",
    "    \n",
    "    return search_space\n",
    "    "
   ]
  },
  {
   "cell_type": "markdown",
   "metadata": {},
   "source": [
    "Define a function that check the if the player wins"
   ]
  },
  {
   "cell_type": "code",
   "execution_count": 6,
   "metadata": {
    "collapsed": true
   },
   "outputs": [],
   "source": [
    "def winning(game, player):\n",
    "    \n",
    "    player_list = []\n",
    "    \n",
    "    if player == \"X\":\n",
    "        player_list = game.x_position\n",
    "    else:\n",
    "        player_list = game.o_position\n",
    "        \n",
    "    \n",
    "    if len(player_list) < game.m:\n",
    "        return False\n",
    "    \n",
    "    #horizontal\n",
    "    for item in player_list:\n",
    "        #horizontal\n",
    "        current = game.game_detail[item-1]\n",
    "        sum = 1\n",
    "        \n",
    "        while current.right in player_list:\n",
    "            current = game.game_detail[current.right-1]\n",
    "            sum += 1\n",
    "        \n",
    "        if sum == game.m:\n",
    "            return True\n",
    "        \n",
    "        \n",
    "        #vertical\n",
    "        current = game.game_detail[item-1]\n",
    "        sum = 1\n",
    "        \n",
    "        while current.down in player_list:\n",
    "            current = game.game_detail[current.down-1]\n",
    "            sum +=1\n",
    "        \n",
    "        if sum == game.m:\n",
    "            return True\n",
    "        \n",
    "        #right diagonal\n",
    "        current = game.game_detail[item-1]\n",
    "        sum = 1\n",
    "        \n",
    "        while current.rightdown in player_list:\n",
    "            current = game.game_detail[current.rightdown-1]\n",
    "            sum +=1\n",
    "        \n",
    "        if sum == game.m:\n",
    "            return True\n",
    "        \n",
    "        #left diagonal\n",
    "        current = game.game_detail[item-1]\n",
    "        sum = 1\n",
    "        \n",
    "        while current.leftdown in player_list:\n",
    "            current = game.game_detail[current.leftdown-1]\n",
    "            sum +=1\n",
    "        \n",
    "        if sum == game.m:\n",
    "            return True\n",
    "    \n",
    "    return False"
   ]
  },
  {
   "cell_type": "markdown",
   "metadata": {},
   "source": [
    "Define a function that print the game"
   ]
  },
  {
   "cell_type": "code",
   "execution_count": 7,
   "metadata": {
    "collapsed": true
   },
   "outputs": [],
   "source": [
    "def print_game(game):\n",
    "    \n",
    "    game_row = game.n\n",
    "    game_col = game.n\n",
    "    \n",
    "    print(\"Step \" + str(game.step))\n",
    "    \n",
    "    for row in range(1, game_row + 1):\n",
    "        col_str = \"\"\n",
    "        for col in range(1, game_col + 1):\n",
    "            position = (row-1)*n + col\n",
    "            symbol = game.game_brief[position-1]\n",
    "            if symbol == \"X\" or symbol == \"O\":\n",
    "                col_str += symbol\n",
    "            else:\n",
    "                col_str += \" \"\n",
    "            if col != n:\n",
    "                col_str += \"|\"\n",
    "        print(col_str)\n",
    "\n",
    "        if row != n:\n",
    "            print(\"-\"*(n*2-1))           "
   ]
  },
  {
   "cell_type": "markdown",
   "metadata": {},
   "source": [
    "minimax algorithm to find the best move"
   ]
  },
  {
   "cell_type": "code",
   "execution_count": 8,
   "metadata": {
    "collapsed": true
   },
   "outputs": [],
   "source": [
    "def minimax(game,player,depth,avail_list):\n",
    "        \n",
    "    #if the game is over, return value\n",
    "    if winning(game, \"X\"):\n",
    "        return [\"X\",500 - depth]\n",
    "    elif winning(game, \"O\"):\n",
    "        return [\"O\",-500 + depth]\n",
    "    elif game.step == game.n**2:\n",
    "        return [\"Tie\",0]\n",
    "    \n",
    "    #limit the depth to 4\n",
    "    if depth > 4:\n",
    "        return [\"Depth\", 0]\n",
    "    \n",
    "    #available spots\n",
    "    #availspots=[]    \n",
    "    #for item in game.game_brief:\n",
    "        #if item !=\"X\" and item !=\"O\":\n",
    "            #availspots.append(item)\n",
    "    \n",
    "    #for the first \"X\", we should put it in the middle of the game\n",
    "    #if len(availspots) == game.n * game.n:\n",
    "    if game.step == 0:\n",
    "        if n%2 == 0:\n",
    "            row = int(n/2)\n",
    "            col = int(n/2)\n",
    "        else:\n",
    "            row = int(n/2)+1\n",
    "            col = int(n/2)+1\n",
    "        \n",
    "        position = (row-1)*game.n+col\n",
    "        return [position,0]\n",
    "    \n",
    "    \n",
    "    #if the game is not over\n",
    "    move = []\n",
    "    \n",
    "    for position in avail_list:\n",
    "\n",
    "        game.move(player, position)\n",
    "        new_list = copy.deepcopy(avail_list)\n",
    "        new_list.remove(position)\n",
    "        \n",
    "        if(player == \"X\"):\n",
    "            result = minimax(game, \"O\", depth + 1, new_list)[1] \n",
    "        else:\n",
    "            result = minimax(game, \"X\", depth + 1, new_list)[1]\n",
    "        \n",
    "        game.undo(player, position)\n",
    "        \n",
    "        move.append([position, result])\n",
    "    \n",
    "    bestmove = []\n",
    "    if(player == \"X\"):\n",
    "        bestresult = -1000\n",
    "        for item in move:\n",
    "            if item[1] > bestresult:\n",
    "                bestresult = item[1]\n",
    "                bestmove = item\n",
    "    else:\n",
    "        bestresult = 1000\n",
    "        for item in move:\n",
    "            if item[1] < bestresult:\n",
    "                bestresult = item[1]\n",
    "                bestmove = item\n",
    "        \n",
    "    return bestmove"
   ]
  },
  {
   "cell_type": "markdown",
   "metadata": {},
   "source": [
    "function that find the best next move"
   ]
  },
  {
   "cell_type": "code",
   "execution_count": 9,
   "metadata": {
    "collapsed": true
   },
   "outputs": [],
   "source": [
    "def best_next_move(game, player):\n",
    "    \n",
    "    next_move = []\n",
    "    valid_space = valid_search_space(game)\n",
    "    next_move = minimax(game, player, 0, valid_space)\n",
    "    \n",
    "    return next_move"
   ]
  },
  {
   "cell_type": "markdown",
   "metadata": {
    "collapsed": true
   },
   "source": [
    "############## Main program"
   ]
  },
  {
   "cell_type": "code",
   "execution_count": 43,
   "metadata": {},
   "outputs": [
    {
     "name": "stdout",
     "output_type": "stream",
     "text": [
      "Step 6\n",
      "O|O|O\n",
      "-----\n",
      "X|X| \n",
      "-----\n",
      " |X| \n"
     ]
    }
   ],
   "source": [
    "#settings\n",
    "n = 3\n",
    "m = 3\n",
    "\n",
    "game = Game(n,m)\n",
    "\n",
    "game.human_player = \"X\"\n",
    "game.ai_player = \"O\"\n",
    "\n",
    "## add moves to here\n",
    "game.move(\"X\",4)\n",
    "game.move(\"O\",1)\n",
    "game.move(\"X\",5)\n",
    "game.move(\"O\",2)\n",
    "game.move(\"X\",8)\n",
    "game.move(\"O\",3)\n",
    "\n",
    "##print result\n",
    "print_game(game)"
   ]
  },
  {
   "cell_type": "code",
   "execution_count": 44,
   "metadata": {},
   "outputs": [
    {
     "name": "stdout",
     "output_type": "stream",
     "text": [
      "['O', -500]\n"
     ]
    }
   ],
   "source": [
    "##find the best next move\n",
    "##[0]: position, [1]:score, 0 is tie, 500 is X wins, -500 is O wins\n",
    "print(best_next_move(game,\"X\"))"
   ]
  },
  {
   "cell_type": "code",
   "execution_count": null,
   "metadata": {
    "collapsed": true
   },
   "outputs": [],
   "source": []
  },
  {
   "cell_type": "code",
   "execution_count": null,
   "metadata": {
    "collapsed": true
   },
   "outputs": [],
   "source": []
  },
  {
   "cell_type": "code",
   "execution_count": null,
   "metadata": {
    "collapsed": true
   },
   "outputs": [],
   "source": []
  },
  {
   "cell_type": "code",
   "execution_count": 8,
   "metadata": {},
   "outputs": [
    {
     "name": "stdout",
     "output_type": "stream",
     "text": [
      "Row:1\n",
      "Col:4\n"
     ]
    }
   ],
   "source": [
    "#from position to row and col\n",
    "n = 4\n",
    "\n",
    "position = 4\n",
    "\n",
    "if position%n == 0:\n",
    "    row = int(position/n)\n",
    "else:\n",
    "    row = int(position/n) + 1\n",
    "\n",
    "col = position - (row-1)*n\n",
    "\n",
    "print(\"Row:\" + str(row))\n",
    "print(\"Col:\" + str(col))"
   ]
  },
  {
   "cell_type": "code",
   "execution_count": 9,
   "metadata": {},
   "outputs": [
    {
     "name": "stdout",
     "output_type": "stream",
     "text": [
      "Position:11\n"
     ]
    }
   ],
   "source": [
    "#from row and col to position\n",
    "n = 4\n",
    "\n",
    "row = 3\n",
    "col = 3\n",
    "\n",
    "position = (row-1)*n + col\n",
    "\n",
    "print(\"Position:\" + str(position))"
   ]
  }
 ],
 "metadata": {
  "kernelspec": {
   "display_name": "Python 3",
   "language": "python",
   "name": "python3"
  },
  "language_info": {
   "codemirror_mode": {
    "name": "ipython",
    "version": 3
   },
   "file_extension": ".py",
   "mimetype": "text/x-python",
   "name": "python",
   "nbconvert_exporter": "python",
   "pygments_lexer": "ipython3",
   "version": "3.6.2"
  }
 },
 "nbformat": 4,
 "nbformat_minor": 2
}
